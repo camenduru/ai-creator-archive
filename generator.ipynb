{
 "cells": [
  {
   "cell_type": "code",
   "execution_count": null,
   "metadata": {},
   "outputs": [],
   "source": [
    "!pip install diffusers transformers piexif fold_to_ascii discord ftfy -U"
   ]
  },
  {
   "cell_type": "code",
   "execution_count": null,
   "metadata": {},
   "outputs": [],
   "source": [
    "import os, gc, requests, json, piexif, torch\n",
    "from diffusers import StableDiffusionPipeline\n",
    "from PIL.PngImagePlugin import PngInfo\n",
    "from fold_to_ascii import fold\n",
    "\n",
    "metadata = PngInfo()\n",
    "\n",
    "def closestNumber(n, m):\n",
    "    q = int(n / m)\n",
    "    n1 = m * q\n",
    "    if (n * m) > 0:\n",
    "        n2 = m * (q + 1)\n",
    "    else:\n",
    "        n2 = m * (q - 1)\n",
    "    if abs(n - n1) < abs(n - n2):\n",
    "        return n1\n",
    "    return n2\n",
    "\n",
    "root_folder = 'images'\n",
    "model_folder = \"nitrosocke/mo-di-diffusion\"\n",
    "\n",
    "if os.path.exists(f\"{root_folder}\") == False:\n",
    "    os.mkdir(f\"{root_folder}\")\n",
    "image_folder = max([int(f) for f in os.listdir(f\"{root_folder}\")], default=0)\n",
    "if os.path.exists(f\"{root_folder}/{image_folder:04}\") == False:\n",
    "    os.mkdir(f\"{root_folder}/{image_folder:04}\")\n",
    "name = max([int(f[: f.index(\".\")]) for f in os.listdir(f\"{root_folder}/{image_folder:04}\")], default=0)\n",
    "\n",
    "pipe = StableDiffusionPipeline.from_pretrained(model_folder, revision=\"main\", torch_dtype=torch.float16, safety_checker=None).to(\"cuda\")\n",
    "\n",
    "def generate(discord_token, discord_channel_id, discord_user, by, num_inference_steps, guidance_scale, sampler, width, height, prompt, negative_prompt, suffix, image_folder, name):\n",
    "    width = closestNumber(width, 8)\n",
    "    height = closestNumber(height, 8)\n",
    "    metadata.add_text(\"Prompt\", f\"{prompt}\")\n",
    "    metadata.add_text(\"by\", f\"{by}\")\n",
    "    gc.collect()\n",
    "    real_seed = torch.cuda.initial_seed()\n",
    "    image = pipe(prompt=prompt, negative_prompt=negative_prompt, num_inference_steps=num_inference_steps, height=height, width=width, guidance_scale=guidance_scale).images[0]\n",
    "    if(suffix == 'png'):\n",
    "      image.save(f\"{root_folder}/{image_folder:04}/{name:04}.{suffix}\", pnginfo=metadata)\n",
    "    else:\n",
    "      zeroth_ifd = {piexif.ImageIFD.ImageDescription: f\"{fold(prompt)}\", piexif.ImageIFD.Make: f\"{fold(by)}\", piexif.ImageIFD.Model: f\"{model_folder}\", piexif.ImageIFD.Copyright: f\"Attribution 4.0 International (CC BY 4.0)\"}\n",
    "      exif_dict = {\"0th\": zeroth_ifd}\n",
    "      exif_bytes = piexif.dump(exif_dict)\n",
    "      image.save(f\"{root_folder}/{image_folder:04}/{name:04}.{suffix}\", \"JPEG\", quality=70, exif=exif_bytes)\n",
    "    files = {f\"{image_folder:04}_{name:04}.{suffix}\": open(f\"{root_folder}/{image_folder:04}/{name:04}.{suffix}\", \"rb\").read()}\n",
    "    payload = {\"content\": f\"{prompt}\\nSteps: {num_inference_steps}, Sampler: {sampler}, CFG scale: {guidance_scale}, Seed: {real_seed}, Size: {width}x{height}, Model folder: {model_folder} - {discord_user}\"}\n",
    "    requests.post(f\"https://discord.com/api/v9/channels/{discord_channel_id}/messages\", data=payload, headers={\"authorization\": f\"Bot {discord_token}\"}, files=files)\n",
    "    os.remove(f\"{root_folder}/{image_folder:04}/{name:04}.{suffix}\")"
   ]
  },
  {
   "cell_type": "code",
   "execution_count": null,
   "metadata": {},
   "outputs": [],
   "source": [
    "with open(\"template.json\", \"r\") as file:\n",
    "    prompts = file.readlines()\n",
    "for prompt in prompts:\n",
    "    d = json.loads(prompt)\n",
    "    name += 1\n",
    "    generate(d[\"discord_token\"], d[\"discord_channel_id\"], \"camenduru\", d[\"by\"], d[\"num_inference_steps\"], d[\"guidance_scale\"], d[\"sampler\"], d[\"width\"], d[\"height\"], d[\"prompt\"], d[\"negative_prompt\"], d[\"suffix\"], image_folder, name)"
   ]
  }
 ],
 "metadata": {
  "kernelspec": {
   "display_name": "Python 3",
   "language": "python",
   "name": "python3"
  },
  "language_info": {
   "codemirror_mode": {
    "name": "ipython",
    "version": 3
   },
   "file_extension": ".py",
   "mimetype": "text/x-python",
   "name": "python",
   "nbconvert_exporter": "python",
   "pygments_lexer": "ipython3",
   "version": "3.10.8"
  },
  "orig_nbformat": 4
 },
 "nbformat": 4,
 "nbformat_minor": 2
}
