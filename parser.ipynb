{
 "cells": [
  {
   "cell_type": "code",
   "execution_count": 62,
   "metadata": {},
   "outputs": [],
   "source": [
    "import json\n",
    "import re\n",
    "\n",
    "def extract_colab_url(input_str):\n",
    "    start = input_str.find(\"https://colab.research.google.com/\")\n",
    "    end = input_str.find(\".ipynb\") + len(\".ipynb\")\n",
    "    url = input_str[start:end]\n",
    "    return url\n",
    "\n",
    "data = {}\n",
    "with open(\"parser.txt\", \"r\") as file:\n",
    "    for index, line in enumerate(file):\n",
    "        urls = line.strip().split(\" | \")\n",
    "        if len(urls) == 4:\n",
    "            url_regex = r'\\[.*?\\]\\((http.*?|https.*?)\\)'\n",
    "            url_match = re.search(url_regex, urls[3])\n",
    "            if url_match:\n",
    "                url = url_match.group(1)\n",
    "            page_name_regex = r'\\[(.*?)\\]\\(http.*?\\)'\n",
    "            page_match = re.search(page_name_regex, urls[3].strip().replace(\"<br />\", \"\"))\n",
    "            if page_match:\n",
    "                page = page_match.group(1)\n",
    "            token = urls[3].split(\" <br /> \", 2)[1]\n",
    "            if \"tokens\" in token:\n",
    "                token = urls[3].split(\" <br /> \", 2)[1]\n",
    "            else:\n",
    "                token = \"\"\n",
    "\n",
    "            if len(urls[3].split(\"<br />\")) > 2:\n",
    "                thanks = urls[3].split(\" <br /> \")[1]\n",
    "                if \"Thanks\" in thanks:\n",
    "                    thanks = urls[3].split(\" <br /> \")[1][1:-1]\n",
    "                else:\n",
    "                    thanks = \"\"\n",
    "            else:\n",
    "                thanks = \"\"\n",
    "            data[str(index)] = {\n",
    "                \"lite\": extract_colab_url(urls[0]),\n",
    "                \"stable\": extract_colab_url(urls[1]),\n",
    "                \"nightly\": extract_colab_url(urls[2]),\n",
    "                \"name\": urls[3].split(\" <br />\", 2)[0],\n",
    "                \"token\": token,\n",
    "                \"page\": page,\n",
    "                \"url\": url,\n",
    "                \"thanks\": thanks\n",
    "            }\n",
    "\n",
    "with open(\"parser.json\", \"w\") as file:\n",
    "    json.dump(data, file, indent=4)\n"
   ]
  }
 ],
 "metadata": {
  "kernelspec": {
   "display_name": "Python 3",
   "language": "python",
   "name": "python3"
  },
  "language_info": {
   "codemirror_mode": {
    "name": "ipython",
    "version": 3
   },
   "file_extension": ".py",
   "mimetype": "text/x-python",
   "name": "python",
   "nbconvert_exporter": "python",
   "pygments_lexer": "ipython3",
   "version": "3.11.2"
  },
  "orig_nbformat": 4
 },
 "nbformat": 4,
 "nbformat_minor": 2
}
