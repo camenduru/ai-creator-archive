{
 "cells": [
  {
   "cell_type": "code",
   "execution_count": null,
   "metadata": {},
   "outputs": [],
   "source": [
    "import os\n",
    "import json\n",
    "\n",
    "directory = 'C:\\\\Users\\\\PC\\\\Documents\\\\ai-creator-archive\\\\creators'\n",
    "\n",
    "folders = []\n",
    "\n",
    "for item in os.listdir(directory):\n",
    "    if os.path.isdir(os.path.join(directory, item)):\n",
    "        for sub_item in os.listdir(os.path.join(directory, item)):\n",
    "            if os.path.isdir(os.path.join(directory, item, sub_item)):\n",
    "                for sub_sub_item in os.listdir(os.path.join(directory, item, sub_item)):\n",
    "                    if os.path.isdir(os.path.join(directory, item, sub_item, sub_sub_item)):\n",
    "                        files = [f for f in os.listdir(os.path.join(directory, item, sub_item, sub_sub_item)) if os.path.isfile(os.path.join(os.path.join(directory, item, sub_item, sub_sub_item), f))]\n",
    "                        # files = [line for line in (open(os.path.join(directory, item, sub_item, sub_sub_item, file), 'r').readline() for file in files) if file in files]\n",
    "                        files_list = os.listdir(os.path.join(directory, item, sub_item, sub_sub_item))\n",
    "                        files = []\n",
    "                        for file in os.listdir(os.path.join(directory, item, sub_item, sub_sub_item)):\n",
    "                            if os.path.isfile(os.path.join(os.path.join(directory, item, sub_item, sub_sub_item), file)):\n",
    "                                with open(os.path.join(directory, item, sub_item, sub_sub_item, file), 'r') as f:\n",
    "                                    lines = f.readlines()\n",
    "                                files.append([line.rstrip() for line in lines])\n",
    "                        folders.append([item, sub_item, sub_sub_item, files])\n",
    "\n",
    "folders_list = [{\n",
    "                \"creator_username\": folder[0],\n",
    "                \"model_name\": folder[1],\n",
    "                \"model_version\": folder[2],\n",
    "                \"images\": folder[3][0],\n",
    "                \"links\" : folder[3][2],\n",
    "                \"online\" : folder[3][3],\n",
    "                \"tokens\": folder[3][4],\n",
    "                \"type\": folder[3][5],\n",
    "                \"vae\": folder[3][6],\n",
    "                \"info\" : f\"https://aica.pages.dev/creators/{folder[0]}/{folder[1]}/{folder[2]}/info.txt\"\n",
    "                } \n",
    "                for folder in folders]\n",
    "\n",
    "json_array = json.dumps(folders_list)\n",
    "print(json_array)\n",
    "with open('all.json', 'w') as outfile:\n",
    "    json.dump(folders_list, outfile, sort_keys=True, indent=4)"
   ]
  },
  {
   "cell_type": "code",
   "execution_count": null,
   "metadata": {},
   "outputs": [],
   "source": [
    "import os\n",
    "\n",
    "def delete_images(path):\n",
    "    for root, dirs, files in os.walk(path):\n",
    "        for file in files:\n",
    "            if file == \"images.txt\":\n",
    "                os.remove(os.path.join(root, file))\n",
    "    print(f\"All images.txt files have been deleted under {path}\")\n",
    "\n",
    "path = \"C:\\\\Users\\\\PC\\\\Documents\\\\ai-creator-archive\\\\creators\"\n",
    "delete_images(path)"
   ]
  },
  {
   "cell_type": "code",
   "execution_count": null,
   "metadata": {},
   "outputs": [],
   "source": [
    "import os\n",
    "\n",
    "def find_and_add_images(path):\n",
    "    deepest_folders = []\n",
    "    max_depth = -1\n",
    "    for root, dirs, files in os.walk(path):\n",
    "        current_depth = root.count(os.path.sep)\n",
    "        if current_depth > max_depth:\n",
    "            max_depth = current_depth\n",
    "            deepest_folders = [root]\n",
    "        elif current_depth == max_depth:\n",
    "            deepest_folders.append(root)\n",
    "\n",
    "    for folder in deepest_folders:\n",
    "        folders = os.path.normpath(folder).split(os.sep)\n",
    "        last_3_folders = folders[-3:]\n",
    "        inside = [f\"https://aica.pages.dev/creators/{last_3_folders[0]}/{last_3_folders[1]}/{last_3_folders[2]}/1.png\", \n",
    "                    f\"https://aica.pages.dev/creators/{last_3_folders[0]}/{last_3_folders[1]}/{last_3_folders[2]}/2.png\", \n",
    "                    f\"https://aica.pages.dev/creators/{last_3_folders[0]}/{last_3_folders[1]}/{last_3_folders[2]}/3.png\", \n",
    "                    f\"https://aica.pages.dev/creators/{last_3_folders[0]}/{last_3_folders[1]}/{last_3_folders[2]}/4.png\"]\n",
    "        images_file_path = os.path.join(folder, 'images.txt')\n",
    "        if not os.path.exists(images_file_path):\n",
    "            with open(images_file_path, 'w') as file:\n",
    "                for line in inside:\n",
    "                    file.write(line + \"\\n\")\n",
    "    return deepest_folders\n",
    "\n",
    "path = \"C:\\\\Users\\\\PC\\\\Documents\\\\ai-creator-archive\\\\creators\"\n",
    "deepest_folders=find_and_add_images(path)"
   ]
  },
  {
   "cell_type": "code",
   "execution_count": 5,
   "metadata": {},
   "outputs": [],
   "source": [
    "import os\n",
    "\n",
    "def find_and_add(path, file_name):\n",
    "    deepest_folders = []\n",
    "    max_depth = -1\n",
    "    for root, dirs, files in os.walk(path):\n",
    "        current_depth = root.count(os.path.sep)\n",
    "        if current_depth > max_depth:\n",
    "            max_depth = current_depth\n",
    "            deepest_folders = [root]\n",
    "        elif current_depth == max_depth:\n",
    "            deepest_folders.append(root)\n",
    "\n",
    "    for folder in deepest_folders:\n",
    "        file_path = os.path.join(folder, file_name)\n",
    "        if not os.path.exists(file_path):\n",
    "            with open(file_path, 'w') as file:\n",
    "                file.write(\"\")\n",
    "    return deepest_folders\n",
    "\n",
    "path = \"C:\\\\Users\\\\PC\\\\Documents\\\\ai-creator-archive\\\\creators\""
   ]
  },
  {
   "cell_type": "code",
   "execution_count": 6,
   "metadata": {},
   "outputs": [],
   "source": [
    "deepest_folders=find_and_add(path, \"info.txt\")\n",
    "deepest_folders=find_and_add(path, \"links.txt\")\n",
    "deepest_folders=find_and_add(path, \"online.txt\")\n",
    "deepest_folders=find_and_add(path, \"tokens.txt\")\n",
    "deepest_folders=find_and_add(path, \"type.txt\")\n",
    "deepest_folders=find_and_add(path, \"vae.txt\")"
   ]
  }
 ],
 "metadata": {
  "kernelspec": {
   "display_name": "Python 3",
   "language": "python",
   "name": "python3"
  },
  "language_info": {
   "codemirror_mode": {
    "name": "ipython",
    "version": 3
   },
   "file_extension": ".py",
   "mimetype": "text/x-python",
   "name": "python",
   "nbconvert_exporter": "python",
   "pygments_lexer": "ipython3",
   "version": "3.10.8"
  },
  "orig_nbformat": 4,
  "vscode": {
   "interpreter": {
    "hash": "e593ac106456af50ce7af38f9671c411b49d6cd90f9b885e167f0f594e09038c"
   }
  }
 },
 "nbformat": 4,
 "nbformat_minor": 2
}
